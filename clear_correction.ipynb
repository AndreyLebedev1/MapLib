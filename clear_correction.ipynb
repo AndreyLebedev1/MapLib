{
 "cells": [
  {
   "cell_type": "code",
   "execution_count": 1,
   "metadata": {},
   "outputs": [],
   "source": [
    "import sys\n",
    "sys.path.append(r'./')\n",
    "\n",
    "import pickle\n",
    "from dataclasses import dataclass\n",
    "\n",
    "from utils.baselineCorrectorUtils import *\n",
    "from baselineCorrector import BaselineCorrector"
   ]
  },
  {
   "cell_type": "code",
   "execution_count": 2,
   "metadata": {},
   "outputs": [],
   "source": [
    "with open(r\"./bin/example_data.pickle\", \"rb\") as f:\n",
    "        data = pickle.load(f)\n",
    "\n",
    "CRLS = data[\"features\"][:587]\n",
    "CRTS = data[\"features\"][:587]\n",
    "WRLS = data[\"features\"][588:]\n",
    "WRTS = data[\"features\"][588:]"
   ]
  },
  {
   "cell_type": "code",
   "execution_count": 16,
   "metadata": {},
   "outputs": [
    {
     "data": {
      "text/plain": [
       "correction_result\n",
       "CR    1144\n",
       "WR      30\n",
       "Name: count, dtype: int64"
      ]
     },
     "execution_count": 16,
     "metadata": {},
     "output_type": "execute_result"
    }
   ],
   "source": [
    "import pandas as pd\n",
    "\n",
    "df = pd.DataFrame(data[\"features\"])\n",
    "corrector = BaselineCorrector()\n",
    "corrector.fit(CRLS, CRTS, WRLS, WRTS)\n",
    "\n",
    "df['correction_result'] = corrector.correct(\n",
    "    data[\"features\"]\n",
    ")[0]\n",
    "\n",
    "df['correction_result'].value_counts()"
   ]
  }
 ],
 "metadata": {
  "kernelspec": {
   "display_name": ".venv",
   "language": "python",
   "name": "python3"
  },
  "language_info": {
   "codemirror_mode": {
    "name": "ipython",
    "version": 3
   },
   "file_extension": ".py",
   "mimetype": "text/x-python",
   "name": "python",
   "nbconvert_exporter": "python",
   "pygments_lexer": "ipython3",
   "version": "3.10.0"
  }
 },
 "nbformat": 4,
 "nbformat_minor": 2
}
